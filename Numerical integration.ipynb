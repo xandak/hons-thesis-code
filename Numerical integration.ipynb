{
 "cells": [
  {
   "cell_type": "code",
   "execution_count": 1,
   "metadata": {},
   "outputs": [],
   "source": [
    "import numpy as np\n",
    "import scipy as sp\n",
    "import math as ma\n",
    "import qutip as qt\n",
    "import matplotlib.pyplot as plt\n",
    "import miscfuncs as mf\n",
    "import pyplotsetup\n",
    "%matplotlib inline"
   ]
  },
  {
   "cell_type": "code",
   "execution_count": 2,
   "metadata": {},
   "outputs": [],
   "source": [
    "fockdim = 200\n",
    "\n",
    "# Square GKP code stabiliser generators\n",
    "alpha = np.sqrt(0.5*np.pi)\n",
    "beta = 1j*alpha \n",
    "Sx = mf.displacement_fock(2*alpha, fockdim)\n",
    "Sz = mf.displacement_fock(2*beta, fockdim)\n",
    "\n",
    "Mx, My, Mz = mf.gkp_measure_ops(fockdim, alpha, beta) # Pauli-bin operators\n",
    "a = qt.destroy(fockdim) # annihilation operator"
   ]
  },
  {
   "cell_type": "code",
   "execution_count": 3,
   "metadata": {},
   "outputs": [],
   "source": [
    "def squeezing_parameter(state, dB=True):\n",
    "    if state.type == 'ket':\n",
    "        rho = state*state.dag()\n",
    "    else:\n",
    "        rho = state\n",
    "    Deltax = np.sqrt(-np.log(np.abs((Sx*rho).tr())**2)/(2*np.pi))\n",
    "    Deltaz = np.sqrt(-np.log(np.abs((Sz*rho).tr())**2)/(2*np.pi))\n",
    "    Delta = 0.5*(Deltax + Deltaz)\n",
    "    if dB == True:\n",
    "        return -10*np.log10(Delta**2)\n",
    "    else:\n",
    "        return Delta"
   ]
  },
  {
   "cell_type": "code",
   "execution_count": 4,
   "metadata": {},
   "outputs": [],
   "source": [
    "def complex_quad(func, a, b, **kwargs):\n",
    "    def real_func(x, *args):\n",
    "        return sp.real(func(x, *args))\n",
    "    def imag_func(x, *args):\n",
    "        return sp.imag(func(x, *args))\n",
    "    real_integral = sp.integrate.quad(real_func, a, b, **kwargs)\n",
    "    imag_integral = sp.integrate.quad(imag_func, a, b, **kwargs)\n",
    "    return (real_integral[0] + 1j*imag_integral[0], real_integral[1] + 1j*imag_integral[1])"
   ]
  },
  {
   "cell_type": "code",
   "execution_count": 5,
   "metadata": {},
   "outputs": [],
   "source": [
    "def complex_dblquad(func, a, b, gfun, hfun, **kwargs):\n",
    "    def real_func(x, *args):\n",
    "        return sp.real(func(x, *args))\n",
    "    def imag_func(x, *args):\n",
    "        return sp.imag(func(x, *args))\n",
    "    real_integral = sp.integrate.dblquad(real_func, a, b, gfun, hfun, **kwargs)\n",
    "    imag_integral = sp.integrate.dblquad(imag_func, a, b, gfun, hfun, **kwargs)\n",
    "    return (real_integral[0] + 1j*imag_integral[0], real_integral[1] + 1j*imag_integral[1])"
   ]
  },
  {
   "cell_type": "code",
   "execution_count": 6,
   "metadata": {},
   "outputs": [],
   "source": [
    "def integrand1(theta, *args):\n",
    "    m = args[0]\n",
    "    n = args[1]\n",
    "    A = args[2]\n",
    "    def f(theta):\n",
    "        f = 0\n",
    "        for n in range(len(A)):\n",
    "            if n == 0:\n",
    "                f += 0.5*A[n]\n",
    "            else: \n",
    "                f += A[n]*np.cos(4*n*theta)\n",
    "        return f\n",
    "    return 0.5*( mf.displacement_fock(1j*(2*ma.pi)**0.5 * np.exp(1j*theta), (m,n)) + \\\n",
    "                mf.displacement_fock(-1j*(2*ma.pi)**0.5 * np.exp(1j*theta), (m,n)) ) * f(theta)"
   ]
  },
  {
   "cell_type": "code",
   "execution_count": 7,
   "metadata": {},
   "outputs": [],
   "source": [
    "def integrand2(theta1, theta2, *args):\n",
    "    m = args[0]\n",
    "    n = args[1]\n",
    "    A = args[2]\n",
    "    def f(theta):\n",
    "        f = 0\n",
    "        for n in range(len(A)):\n",
    "            if n == 0:\n",
    "                f += 0.5*A[n]\n",
    "            else: \n",
    "                f += A[n]*np.cos(4*n*theta)\n",
    "        return f\n",
    "    return 0.25*2j*np.sin(2*ma.pi*np.sin(theta1 - theta2)) * \\\n",
    "        ( mf.displacement_fock(1j*(2*ma.pi)**0.5 * (np.exp(1j*theta1) + np.exp(1j*theta2)), (m, n)) + \\\n",
    "        mf.displacement_fock(-1j*(2*ma.pi)**0.5 * (np.exp(1j*theta1) + np.exp(1j*theta2)), (m, n)) - \\\n",
    "        mf.displacement_fock(1j*(2*ma.pi)**0.5 * (np.exp(1j*theta1) - np.exp(1j*theta2)), (m, n)) - \\\n",
    "        mf.displacement_fock(-1j*(2*ma.pi)**0.5 * (np.exp(1j*theta1) - np.exp(1j*theta2)), (m, n)) ) * f(theta1) * f(theta2)"
   ]
  },
  {
   "cell_type": "markdown",
   "metadata": {},
   "source": [
    "# Time-averaged Hamiltonian (1st order correction)"
   ]
  },
  {
   "cell_type": "code",
   "execution_count": 8,
   "metadata": {},
   "outputs": [],
   "source": [
    "N = 4\n",
    "A = np.ones(N+1)\n",
    "m = 0\n",
    "n = 0\n",
    "(res, error) = complex_quad(integrand1, 0, 2*ma.pi, args = (m,n,A))"
   ]
  },
  {
   "cell_type": "code",
   "execution_count": 9,
   "metadata": {},
   "outputs": [
    {
     "name": "stdout",
     "output_type": "stream",
     "text": [
      "<0|4*H1|0> = 8.64e-04+0.00e+00j +- 1.02e-12+0.00e+00j\n",
      "<0|Hideal|0> = 8.64e-04+0.00e+00j\n"
     ]
    }
   ],
   "source": [
    "J = 1e-2\n",
    "H1_matelt = J/(2*ma.pi)*res\n",
    "H1_error = J/(2*ma.pi)*error\n",
    "Hideal_matelt = J*0.5*( mf.displacement_fock( (2*ma.pi)**0.5, (m,n)) + mf.displacement_fock( -(2*ma.pi)**0.5, (m,n)) \\\n",
    "              + mf.displacement_fock( 1j*(2*ma.pi)**0.5, (m,n)) + mf.displacement_fock( -1j*(2*ma.pi)**0.5, (m,n)) )\n",
    "print(f'<{m}|4*H1|{n}> = {4*H1_matelt:.2e} +- {4*H1_error:.2e}')\n",
    "print(f'<{m}|Hideal|{n}> = {Hideal_matelt:.2e}')"
   ]
  },
  {
   "cell_type": "markdown",
   "metadata": {},
   "source": [
    "# 2nd order correction"
   ]
  },
  {
   "cell_type": "code",
   "execution_count": 10,
   "metadata": {},
   "outputs": [
    {
     "name": "stdout",
     "output_type": "stream",
     "text": [
      "Wall time: 1min 27s\n"
     ]
    }
   ],
   "source": [
    "%%time\n",
    "m = 4*(N+1)\n",
    "n = 0\n",
    "(res, error) = complex_dblquad(integrand2, 0, 2*ma.pi, lambda theta1: 0, lambda theta1: theta1, args = (m,n,A))"
   ]
  },
  {
   "cell_type": "code",
   "execution_count": 11,
   "metadata": {},
   "outputs": [
    {
     "name": "stdout",
     "output_type": "stream",
     "text": [
      "<20|4*H2|0> = -1.98e-06+3.11e-22j +- 4.73e-13-4.73e-13j\n"
     ]
    }
   ],
   "source": [
    "J = 1e-2\n",
    "w = 1\n",
    "H2_matelt = J**2/(4*1j*ma.pi*w) * res\n",
    "H2_error = J**2/(4*1j*ma.pi*w) * error\n",
    "print(f'<{m}|4*H2|{n}> = {4*H2_matelt:.2e} +- {4*H2_error:.2e}')"
   ]
  }
 ],
 "metadata": {
  "kernelspec": {
   "display_name": "Python 3",
   "language": "python",
   "name": "python3"
  },
  "language_info": {
   "codemirror_mode": {
    "name": "ipython",
    "version": 3
   },
   "file_extension": ".py",
   "mimetype": "text/x-python",
   "name": "python",
   "nbconvert_exporter": "python",
   "pygments_lexer": "ipython3",
   "version": "3.6.9"
  }
 },
 "nbformat": 4,
 "nbformat_minor": 2
}
