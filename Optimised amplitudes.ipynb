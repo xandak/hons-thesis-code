{
 "cells": [
  {
   "cell_type": "code",
   "execution_count": 1,
   "metadata": {},
   "outputs": [],
   "source": [
    "import numpy as np\n",
    "import scipy as sp\n",
    "import math as ma\n",
    "import qutip as qt\n",
    "import matplotlib.pyplot as plt\n",
    "import miscfuncs as mf\n",
    "import pyplotsetup\n",
    "%matplotlib inline"
   ]
  },
  {
   "cell_type": "code",
   "execution_count": 2,
   "metadata": {},
   "outputs": [],
   "source": [
    "fockdim = 200\n",
    "\n",
    "# Square GKP code stabiliser generators\n",
    "alpha = np.sqrt(0.5*np.pi)\n",
    "beta = 1j*alpha \n",
    "Sx = mf.displacement_fock(2*alpha, fockdim)\n",
    "Sz = mf.displacement_fock(2*beta, fockdim)\n",
    "\n",
    "Mx, My, Mz = mf.gkp_measure_ops(fockdim, alpha, beta) # Pauli-bin operators\n",
    "a = qt.destroy(fockdim) # annihilation operator"
   ]
  },
  {
   "cell_type": "code",
   "execution_count": 3,
   "metadata": {},
   "outputs": [],
   "source": [
    "def decode(state):\n",
    "    if state.type == 'ket':\n",
    "        rho = state*state.dag()\n",
    "    else:\n",
    "        rho = state\n",
    "    return 0.5*(qt.qeye(2) + qt.expect(Mx, state)*qt.sigmax() + qt.expect(My,state)*qt.sigmay() \n",
    "            + qt.expect(Mz,state)*qt.sigmaz())\n",
    "\n",
    "def squeezing(state, dB=True):\n",
    "    if state.type == 'ket':\n",
    "        rho = state*state.dag()\n",
    "    else:\n",
    "        rho = state\n",
    "    Deltax = np.sqrt(-np.log(np.abs((Sx*rho).tr())**2)/(2*np.pi))\n",
    "    Deltaz = np.sqrt(-np.log(np.abs((Sz*rho).tr())**2)/(2*np.pi))\n",
    "    Delta = 0.5*(Deltax + Deltaz)\n",
    "    if dB == True:\n",
    "        return -10*np.log10(Delta**2)\n",
    "    else:\n",
    "        return Delta"
   ]
  },
  {
   "cell_type": "code",
   "execution_count": 4,
   "metadata": {},
   "outputs": [],
   "source": [
    "def cost_function(A, *args):\n",
    "    N = len(A) - 1\n",
    "    w0 = args[0]\n",
    "    J = args[1]\n",
    "    T = 2*ma.pi/w0\n",
    "    \n",
    "    # Define driving function\n",
    "    def f(t, args):\n",
    "        A = args['A']\n",
    "        N = args['N']\n",
    "        w = args['w0']\n",
    "        f = 0.5*A[0]\n",
    "        for n in np.arange(1, N+1):\n",
    "            f += A[n]*np.cos(4*n*w*t)\n",
    "        return f\n",
    "\n",
    "    # Compute Floquet operator\n",
    "    H0 = w0*a.dag()*a\n",
    "    H1 = -J*0.5*(Sz + Sz.dag())\n",
    "    H = [H0, [H1, f]]\n",
    "    options = qt.Options(nsteps = 1e4)\n",
    "    U = qt.propagator(H, T, args = {'A': A, 'N': N, 'w0': w0}, options=options)\n",
    "\n",
    "    # Floquet states and squeezings\n",
    "    floquet_states, quasienergies = qt.floquet_modes(H, T, U=U)\n",
    "    squeezings = []\n",
    "    for i in range(len(floquet_states)):\n",
    "        squeezings.append(squeezing(floquet_states[i]))\n",
    "        \n",
    "    return -max(squeezings)"
   ]
  },
  {
   "cell_type": "code",
   "execution_count": 5,
   "metadata": {},
   "outputs": [],
   "source": [
    "N = 4\n",
    "A0 = np.ones(N+1) # Initial guess for amplitudes: a_n = 1\n",
    "w0 = 1\n",
    "J = 0.01\n",
    "result = sp.optimize.minimize(cost_function, A0, args = (w0,J) , method = 'L-BFGS-B')"
   ]
  },
  {
   "cell_type": "code",
   "execution_count": 6,
   "metadata": {},
   "outputs": [
    {
     "data": {
      "text/plain": [
       "      fun: -13.13386398095837\n",
       " hess_inv: <5x5 LbfgsInvHessProduct with dtype=float64>\n",
       "      jac: array([-0.42498414, -0.14784494,  0.23809097,  0.11688321,  0.27563498])\n",
       "  message: b'CONVERGENCE: REL_REDUCTION_OF_F_<=_FACTR*EPSMCH'\n",
       "     nfev: 312\n",
       "      nit: 20\n",
       "   status: 0\n",
       "  success: True\n",
       "        x: array([1.2153989 , 1.01305987, 0.52979617, 1.18274339, 1.31876503])"
      ]
     },
     "execution_count": 6,
     "metadata": {},
     "output_type": "execute_result"
    }
   ],
   "source": [
    "result"
   ]
  }
 ],
 "metadata": {
  "kernelspec": {
   "display_name": "Python 3",
   "language": "python",
   "name": "python3"
  },
  "language_info": {
   "codemirror_mode": {
    "name": "ipython",
    "version": 3
   },
   "file_extension": ".py",
   "mimetype": "text/x-python",
   "name": "python",
   "nbconvert_exporter": "python",
   "pygments_lexer": "ipython3",
   "version": "3.6.9"
  }
 },
 "nbformat": 4,
 "nbformat_minor": 2
}
